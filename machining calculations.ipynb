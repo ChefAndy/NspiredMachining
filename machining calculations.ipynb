{
 "cells": [
  {
   "cell_type": "code",
   "execution_count": 57,
   "metadata": {},
   "outputs": [
    {
     "name": "stdout",
     "output_type": "stream",
     "text": [
      "1 turn / minute\n",
      "2.033714684708797 meter * newton\n",
      "2.6 meter * newton\n",
      "7800.0 meter * newton * turn / minute\n",
      "816.8140899333463 watt\n",
      "816.8140899333463 watt\n",
      "816.8140899333463 watt\n",
      "2261.946710584651 watt\n",
      "['A', 'B', 'BTU', 'Ba', 'Bd', 'Bq', 'British_horsepower', 'Btu', 'C', 'C12_faraday', 'Ci', 'DPI', 'Da', 'EC_therm', 'E_h', 'Eh', 'F', 'Fr', 'Gy', 'H', 'H2O', 'Hg', 'Hz', 'J', 'K', 'KPH', 'L', 'Langley', 'M', 'MPH', 'Measurement', 'N', 'N_A', 'Ne', 'Nm', 'Oe', 'P', 'PPCM', 'PPI', 'PSH', 'Pa', 'P̸', 'Quantity', 'R', 'Rd', 'S', 'St', 'Sv', 'T', 'Tbl', 'Tblsp', 'Tbsp', 'Tj', 'UK_bbl', 'UK_bushel', 'UK_cup', 'UK_cwt', 'UK_fluid_ounce', 'UK_gallon', 'UK_gill', 'UK_horsepower', 'UK_hundredweight', 'UK_pint', 'UK_pk', 'UK_quart', 'UK_ton', 'US_cwt', 'US_dry_barrel', 'US_dry_gallon', 'US_dry_pint', 'US_dry_quart', 'US_fluid_dram', 'US_fluid_ounce', 'US_hundredweight', 'US_liquid_cup', 'US_liquid_gallon', 'US_liquid_gill', 'US_liquid_ounce', 'US_liquid_quart', 'US_pint', 'US_shot', 'US_therm', 'US_ton', 'Unit', 'V', 'VA', 'W', 'Wb', 'Wh', 'Z_0', 'acre', 'acre_feet', 'acre_foot', 'amp', 'ampere', 'ampere_turn', 'amu', 'angstrom', 'angular_degree', 'angular_minute', 'angular_second', 'ap_dr', 'ap_lb', 'ap_oz', 'apothecary_dram', 'apothecary_ounce', 'apothecary_pound', 'arc_minute', 'arc_second', 'arcdeg', 'arcdegree', 'arcmin', 'arcminute', 'arcsec', 'arcsecond', 'are', 'astronomical_unit', 'at', 'atm', 'atmosphere', 'atomic_mass_unit', 'au', 'avdp_dram', 'avdp_ounce', 'avdp_pound', 'avogadro_number', 'avoirdupois_dram', 'avoirdupois_ounce', 'avoirdupois_pound', 'b', 'bag', 'bar', 'barad', 'barie', 'barn', 'barrel', 'barrie', 'baryd', 'barye', 'baud', 'bbl', 'becquerel', 'beer_barrel', 'beer_bbl', 'bit', 'bits_per_pixel', 'boiler_horsepower', 'boltzmann_constant', 'bpp', 'bps', 'british_thermal_unit', 'btu', 'bu', 'bushel', 'byte', 'c', 'cal', 'calorie', 'candela', 'candle', 'carat', 'cc', 'cd', 'celsius', 'centimeter', 'centimeter_Hg', 'ch_cwt', 'chain', 'characteristic_impedance_of_vacuum', 'chemical_faraday', 'circle', 'circular_mils', 'cmH2O', 'cmHg', 'cm_Hg', 'cmil', 'common_year', 'conventional_mercury', 'conventional_water', 'convert', 'coulomb', 'count', 'counts_per_second', 'cp', 'cps', 'cu_ft', 'cu_in', 'cu_yd', 'cubic_centimeter', 'cubic_feet', 'cubic_foot', 'cubic_inch', 'cubic_yard', 'cup', 'curie', 'cycle', 'dalton', 'darcy', 'day', 'decitex', 'define', 'deg', 'degC', 'degF', 'degK', 'degR', 'degree', 'delta_degC', 'delta_degF', 'denier', 'dgal', 'dot', 'dots_per_inch', 'dpi', 'dqt', 'dr', 'drachm', 'dram', 'dry_barrel', 'dry_gallon', 'dry_pint', 'dry_quart', 'dtex', 'dwt', 'dyn', 'dyne', 'e', 'eV', 'electric_constant', 'electric_horsepower', 'electron_mass', 'electron_volt', 'elementary_charge', 'eon', 'epsilon_0', 'erg', 'esu', 'esu_per_second', 'fahrenheit', 'farad', 'faraday', 'fathom', 'feet', 'fine_structure_constant', 'fldr', 'floz', 'fluid_dram', 'fluid_ounce', 'fluidram', 'foot', 'footH2O', 'foot_H2O', 'force_gram', 'force_kilogram', 'force_ounce', 'force_pound', 'force_ton', 'fortnight', 'franklin', 'ft', 'ftH2O', 'furlong', 'g', 'g_0', 'g_n', 'gal', 'gallon', 'gamma', 'gauss', 'get_base_units', 'get_dimensionality', 'get_name', 'get_root_units', 'get_symbol', 'gf', 'gi', 'gilbert', 'gill', 'gr', 'grain', 'gram', 'gram_force', 'gravity', 'gray', 'gregorian_year', 'h', 'h2o', 'ha', 'hartree', 'hartree_energy', 'hbar', 'hectare', 'henry', 'hertz', 'hogshead', 'horsepower', 'hour', 'hp', 'hr', 'hydraulic_horsepower', 'impedance_of_free_space', 'imperial_barrel', 'imperial_bbl', 'imperial_bu', 'imperial_bushel', 'imperial_cp', 'imperial_cup', 'imperial_floz', 'imperial_fluid_drachm', 'imperial_fluid_dram', 'imperial_fluid_ounce', 'imperial_gal', 'imperial_gallon', 'imperial_gi', 'imperial_gill', 'imperial_peck', 'imperial_pint', 'imperial_pk', 'imperial_pt', 'imperial_qt', 'imperial_quart', 'in', 'inHg', 'in_Hg', 'inch', 'inch_H2O_39F', 'inch_H2O_60F', 'inch_Hg', 'inch_Hg_32F', 'inch_Hg_60F', 'inches', 'international_feet', 'international_foot', 'international_inch', 'international_inches', 'international_knot', 'international_mile', 'international_steam_table_calorie', 'international_yard', 'jig', 'joule', 'julian_year', 'jute', 'k', 'kat', 'katal', 'kelvin', 'kgf', 'kilogram', 'kilogram_force', 'kilometer', 'kip', 'kip_per_square_inch', 'knot', 'knot_international', 'kph', 'ksi', 'kt', 'l', 'langley', 'lb', 'lbf', 'league', 'leap_year', 'lg_cwt', 'li', 'light_year', 'lightyear', 'link', 'liquid_cup', 'liquid_gallon', 'liquid_gill', 'liquid_pint', 'liquid_quart', 'liter', 'litre', 'lm', 'load_definitions', 'long_hunderweight', 'long_ton', 'lumen', 'lunar_month', 'lux', 'lx', 'ly', 'm', 'm_e', 'm_n', 'm_p', 'magnetic_constant', 'maxwell', 'mercury', 'mercury_60F', 'meter', 'metre', 'metric_horsepower', 'metric_ton', 'mho', 'mi', 'mil', 'mile', 'milenia', 'milenium', 'millenia', 'millenium', 'milligram', 'milliliter', 'millimeter', 'millimeter_Hg', 'millimeter_Hg_0C', 'min', 'minim', 'minute', 'mmHg', 'mm_Hg', 'mol', 'molar', 'molar_gas_constant', 'mole', 'month', 'mph', 'mu_0', 'mx', 'nautical_mile', 'nautical_miles_per_hour', 'neutron_mass', 'newton', 'newtonian_constant_of_gravitation', 'nmi', 'octet', 'oersted', 'ohm', 'oil_barrel', 'oil_bbl', 'ounce', 'ounce_force', 'oz', 'ozf', 'parse_expression', 'parse_unit_name', 'parse_units', 'parsec', 'pascal', 'pc', 'pdl', 'peak_sun_hour', 'peck', 'pel', 'pennyweight', 'perch', 'physical_faraday', 'pi', 'pica', 'picture_element', 'pint', 'pixel', 'pixels_per_centimeter', 'pixels_per_inch', 'pk', 'planck_constant', 'point', 'poise', 'pole', 'pond', 'pound', 'pound_force', 'pound_force_per_square_inch', 'poundal', 'pp', 'ppi', 'printers_dpi', 'printers_pica', 'printers_point', 'proton_mass', 'psi', 'pt', 'px', 'qt', 'quad', 'quadrillion_btu', 'quart', 'quarter', 'rad', 'radian', 'rads', 'rankine', 'rd', 'refrigeration_ton', 'rem', 'revolution', 'revolutions_per_minute', 'rhe', 'rod', 'roentgen', 'rpm', 'rps', 'rutherford', 'rydberg_constant', 's', 'scruple', 'sec', 'second', 'sft', 'shake', 'short_hunderdweight', 'short_ton', 'shot', 'sidereal_day', 'sidereal_hour', 'sidereal_minute', 'sidereal_month', 'sidereal_second', 'sidereal_year', 'siemens', 'sievert', 'slm', 'slpm', 'speed_of_light', 'sq_ft', 'sq_in', 'sq_mi', 'sq_perch', 'sq_pole', 'sq_rod', 'sq_yd', 'square_feet', 'square_foot', 'square_inch', 'square_inches', 'square_mile', 'square_rod', 'square_yard', 'sr', 'stF', 'stH', 'stS', 'stV', 'standard_atmosphere', 'standard_gravity', 'standard_liter_per_minute', 'statC', 'statF', 'statH', 'statS', 'statV', 'statampere', 'statcoulombs', 'statfarad', 'stathenry', 'statmho', 'statohm', 'statvolt', 'stefan_boltzmann_constant', 'steradian', 'stere', 'stokes', 'stone', 'survey_foot', 'survey_link', 'survey_mile', 'synodic_month', 't', 'tTNT', 'tablespoon', 'tblsp', 'tbs', 'tbsp', 'teaspoon', 'technical_atmosphere', 'tesla', 'tex', 'th', 'therm', 'thermochemical_calorie', 'thm', 'thou', 'tlb', 'toe', 'ton', 'ton_TNT', 'ton_force', 'ton_of_refrigeration', 'tonne', 'tonne_of_oil_equivalent', 'torr', 'toz', 'tropical_month', 'troy_ounce', 'troy_pound', 'tsp', 'turn', 'u', 'unit_pole', 'us_statute_mile', 'vacuum_permeability', 'vacuum_permittivity', 'volt', 'volt_ampere', 'water', 'water_39F', 'water_4C', 'water_60F', 'watt', 'watt_hour', 'watthour', 'weber', 'week', 'wien_frequency_displacement_law_constant', 'work_month', 'work_year', 'yard', 'yd', 'year', 'Å', 'ångström', 'ħ', 'Δcelsius', 'Δfahrenheit', 'Ω', 'π', 'σ', 'Å']\n"
     ]
    }
   ],
   "source": [
    "import pymachining as pm\n",
    "import importlib\n",
    "importlib.reload(pm)\n",
    "from pymachining import ureg\n",
    "\n",
    "# import pint\n",
    "# ureg = pint.UnitRegistry(auto_reduce_dimensions=True)\n",
    "\n",
    "# dir(ureg)\n",
    "# 1 * ureg.minutes\n",
    "\n",
    "\n",
    "print(1 * ureg.tpm)\n",
    "\n",
    "m = pm.MachinePM25_DMMServo()\n",
    "print(m.torque_continuous(4000 * (ureg.turn / ureg.min)))\n",
    "print(m.torque_continuous(3000 * ureg.tpm))\n",
    "print(m.torque_continuous(3000 * ureg.tpm) * (3000* ureg.tpm))\n",
    "print((m.torque_continuous(3000 * ureg.tpm) * (3000* ureg.tpm)).to('watt'))\n",
    "print(m.power_continuous(3000 * ureg.tpm).to('watt'))\n",
    "print(m.power_continuous(3000 * ureg.tpm))\n",
    "print(m.power_intermittent(3000 * ureg.tpm))\n",
    "print(dir(ureg))"
   ]
  },
  {
   "cell_type": "code",
   "execution_count": 245,
   "metadata": {},
   "outputs": [
    {
     "ename": "AttributeError",
     "evalue": "'UnitRegistry' object has no attribute 'mm'",
     "output_type": "error",
     "traceback": [
      "\u001b[1;31m---------------------------------------------------------------------------\u001b[0m",
      "\u001b[1;31mAttributeError\u001b[0m                            Traceback (most recent call last)",
      "\u001b[1;32m<ipython-input-245-47e948e258ec>\u001b[0m in \u001b[0;36m<module>\u001b[1;34m\u001b[0m\n\u001b[1;32m----> 1\u001b[1;33m \u001b[0mcutter_diameter\u001b[0m \u001b[1;33m=\u001b[0m \u001b[1;36m12.7\u001b[0m \u001b[1;33m*\u001b[0m \u001b[0mureg\u001b[0m\u001b[1;33m.\u001b[0m\u001b[0mmm\u001b[0m\u001b[1;33m\u001b[0m\u001b[1;33m\u001b[0m\u001b[0m\n\u001b[0m\u001b[0;32m      2\u001b[0m \u001b[0mrpm\u001b[0m \u001b[1;33m=\u001b[0m \u001b[1;36m1000\u001b[0m \u001b[1;33m*\u001b[0m \u001b[0mureg\u001b[0m\u001b[1;33m.\u001b[0m\u001b[0mrevolutions_per_minute\u001b[0m\u001b[1;33m\u001b[0m\u001b[1;33m\u001b[0m\u001b[0m\n\u001b[0;32m      3\u001b[0m \u001b[1;33m\u001b[0m\u001b[0m\n\u001b[0;32m      4\u001b[0m \u001b[0mv_c\u001b[0m \u001b[1;33m=\u001b[0m \u001b[0mpm\u001b[0m\u001b[1;33m.\u001b[0m\u001b[0mDrillOp\u001b[0m\u001b[1;33m.\u001b[0m\u001b[0mcutting_speed_\u001b[0m\u001b[1;33m(\u001b[0m\u001b[0mcutter_diameter\u001b[0m\u001b[1;33m,\u001b[0m \u001b[0mrpm\u001b[0m\u001b[1;33m)\u001b[0m\u001b[1;33m\u001b[0m\u001b[1;33m\u001b[0m\u001b[0m\n\u001b[0;32m      5\u001b[0m \u001b[1;33m\u001b[0m\u001b[0m\n",
      "\u001b[1;31mAttributeError\u001b[0m: 'UnitRegistry' object has no attribute 'mm'"
     ]
    }
   ],
   "source": [
    "cutter_diameter = 12.7 * ureg.mm\n",
    "rpm = 1000 * ureg.revolutions_per_minute\n",
    "\n",
    "v_c = pm.DrillOp.cutting_speed_(cutter_diameter, rpm)\n",
    "\n",
    "print(cutter_diameter, rpm, v_c, sep='\\n')"
   ]
  },
  {
   "cell_type": "code",
   "execution_count": 109,
   "metadata": {},
   "outputs": [],
   "source": [
    "cutter_diameter = 12.7 * ureg.mm\n",
    "drill = pm.DrillOp(cutter_diameter, pm.Material('aluminum'))"
   ]
  },
  {
   "cell_type": "code",
   "execution_count": 110,
   "metadata": {},
   "outputs": [
    {
     "name": "stdout",
     "output_type": "stream",
     "text": [
      "12.7 millimeter\n",
      "1000 revolutions_per_minute\n",
      "39898.22670059037 millimeter * revolutions_per_minute\n"
     ]
    }
   ],
   "source": [
    "rpm = 1000 * ureg.revolutions_per_minute\n",
    "\n",
    "v_c = drill.cutting_speed(rpm)\n",
    "\n",
    "print(cutter_diameter, rpm, v_c, sep='\\n')"
   ]
  },
  {
   "cell_type": "code",
   "execution_count": 111,
   "metadata": {},
   "outputs": [
    {
     "name": "stdout",
     "output_type": "stream",
     "text": [
      "1002.5508226261124 / minute\n",
      "1002.5508226261124 revolutions_per_minute\n",
      "1002.55 revolutions_per_minute\n"
     ]
    }
   ],
   "source": [
    "cutter_diameter = 12.7 * ureg.mm\n",
    "cutting_speed = 40 * ureg.m / ureg.min\n",
    "\n",
    "n = pm.DrillOp.spindle_speed_(cutter_diameter, cutting_speed)\n",
    "print(n)\n",
    "print(f'{n:.2f}')"
   ]
  },
  {
   "cell_type": "code",
   "execution_count": 112,
   "metadata": {},
   "outputs": [
    {
     "name": "stdout",
     "output_type": "stream",
     "text": [
      "1002.5508226261124 / minute\n",
      "1002.5508226261124 revolutions_per_minute\n",
      "1002.55 revolutions_per_minute\n"
     ]
    }
   ],
   "source": [
    "cutting_speed = 40 * ureg.m / ureg.min\n",
    "\n",
    "n = drill.spindle_speed(cutting_speed)\n",
    "print(n)\n",
    "print(f'{n:.2f}')"
   ]
  },
  {
   "cell_type": "code",
   "execution_count": 113,
   "metadata": {},
   "outputs": [
    {
     "name": "stdout",
     "output_type": "stream",
     "text": [
      "1000.0 millimeter / minute\n"
     ]
    }
   ],
   "source": [
    "# speed_per_revolution = 1 * ureg.mm / ureg.revolution\n",
    "# spindle_speed = 1000 * ureg.revolutions_per_minute\n",
    "\n",
    "# using turn instead of rev_per_min results in simplier final units, without need for to_base_units()\n",
    "speed_per_revolution = 1 * ureg.mm / ureg.turn\n",
    "spindle_speed = 1000 * (ureg.turn / ureg.minute)\n",
    "\n",
    "v_f = pm.DrillOp.penetration_rate_(speed_per_revolution, spindle_speed)\n",
    "\n",
    "print(v_f)\n",
    "# print(v_f.to_compact())\n",
    "# print(v_f.to_base_units())\n",
    "# print(v_f.to_reduced_units())\n",
    "# print(v_f.to(ureg.mm / ureg.min))"
   ]
  },
  {
   "cell_type": "code",
   "execution_count": 114,
   "metadata": {},
   "outputs": [
    {
     "name": "stdout",
     "output_type": "stream",
     "text": [
      "1000.0 millimeter / minute\n"
     ]
    }
   ],
   "source": [
    "# speed_per_revolution = 1 * ureg.mm / ureg.revolution\n",
    "# spindle_speed = 1000 * ureg.revolutions_per_minute\n",
    "\n",
    "# using turn instead of rev_per_min results in simplier final units, without need for to_base_units()\n",
    "speed_per_revolution = 1 * ureg.mm / ureg.turn\n",
    "spindle_speed = 1000 * (ureg.turn / ureg.minute)\n",
    "\n",
    "v_f = drill.penetration_rate_(speed_per_revolution, spindle_speed)\n",
    "\n",
    "print(v_f)\n",
    "# print(v_f.to_compact())\n",
    "# print(v_f.to_base_units())\n",
    "# print(v_f.to_reduced_units())\n",
    "# print(v_f.to(ureg.mm / ureg.min))"
   ]
  },
  {
   "cell_type": "code",
   "execution_count": 115,
   "metadata": {
    "scrolled": true
   },
   "outputs": [
    {
     "name": "stdout",
     "output_type": "stream",
     "text": [
      "1.0 millimeter / turn\n"
     ]
    }
   ],
   "source": [
    "penetration_rate = 1000 * ureg.mm / ureg.min\n",
    "spindle_speed = 1000 * (ureg.turn / ureg.min)\n",
    "\n",
    "f_n = pm.DrillOp.feed_per_revolution_(penetration_rate, spindle_speed)\n",
    "\n",
    "print(f_n)"
   ]
  },
  {
   "cell_type": "code",
   "execution_count": 116,
   "metadata": {},
   "outputs": [
    {
     "name": "stdout",
     "output_type": "stream",
     "text": [
      "1.0 millimeter / turn\n"
     ]
    }
   ],
   "source": [
    "penetration_rate = 1000 * ureg.mm / ureg.min\n",
    "spindle_speed = 1000 * (ureg.turn / ureg.min)\n",
    "\n",
    "f_n = drill.feed_per_revolution(penetration_rate, spindle_speed)\n",
    "\n",
    "print(f_n)"
   ]
  },
  {
   "cell_type": "code",
   "execution_count": 117,
   "metadata": {},
   "outputs": [
    {
     "name": "stdout",
     "output_type": "stream",
     "text": [
      "126676.86977437443 millimeter ** 3 / minute\n",
      "126.67686977437442 centimeter ** 3 / minute\n"
     ]
    }
   ],
   "source": [
    "cutter_diameter = 12.7 * ureg.mm\n",
    "feed_per_revolution = 1 * ureg.mm / ureg.turn\n",
    "# spindle_speed = 1000 * ureg.revolutions_per_minute\n",
    "cutting_speed = 1000 * ureg.mm / ureg.min\n",
    "\n",
    "Q = pm.DrillOp.metal_removal_rate_(cutter_diameter, feed_per_revolution, spindle_speed)\n",
    "\n",
    "print(Q)\n",
    "print(Q.to('cm^3 / min'))"
   ]
  },
  {
   "cell_type": "code",
   "execution_count": 118,
   "metadata": {},
   "outputs": [
    {
     "name": "stdout",
     "output_type": "stream",
     "text": [
      "126676.86977437443 millimeter ** 3 / minute\n",
      "126.67686977437442 centimeter ** 3 / minute\n"
     ]
    }
   ],
   "source": [
    "feed_per_revolution = 1 * ureg.mm / ureg.turn\n",
    "# spindle_speed = 1000 * ureg.revolutions_per_minute\n",
    "cutting_speed = 1000 * ureg.mm / ureg.min\n",
    "\n",
    "Q = drill.metal_removal_rate(feed_per_revolution, spindle_speed)\n",
    "\n",
    "print(Q)\n",
    "print(Q.to('cm^3 / min'))"
   ]
  },
  {
   "cell_type": "code",
   "execution_count": 119,
   "metadata": {
    "scrolled": true
   },
   "outputs": [
    {
     "name": "stdout",
     "output_type": "stream",
     "text": [
      "126676.86977437443 millimeter ** 3 / minute\n",
      "126.67686977437442 centimeter ** 3 / minute\n"
     ]
    }
   ],
   "source": [
    "cutter_diameter = 12.7 * ureg.mm\n",
    "feed_per_revolution = 1 * ureg.mm / ureg.turn\n",
    "# spindle_speed = 1000 * ureg.revolutions_per_minute\n",
    "spindle_speed = 1000 * (ureg.turn / ureg.minute)\n",
    "\n",
    "Q = pm.DrillOp.metal_removal_rate_(cutter_diameter, feed_per_revolution, spindle_speed)\n",
    "\n",
    "print(Q)\n",
    "print(Q.to('cm^3 / min'))"
   ]
  },
  {
   "cell_type": "code",
   "execution_count": 120,
   "metadata": {},
   "outputs": [
    {
     "name": "stdout",
     "output_type": "stream",
     "text": [
      "126676.86977437443 millimeter ** 3 / minute\n",
      "126.67686977437442 centimeter ** 3 / minute\n"
     ]
    }
   ],
   "source": [
    "cutter_diameter = 12.7 * ureg.mm\n",
    "feed_per_revolution = 1 * ureg.mm / ureg.turn\n",
    "# spindle_speed = 1000 * ureg.revolutions_per_minute\n",
    "spindle_speed = 1000 * (ureg.turn / ureg.minute)\n",
    "\n",
    "Q = drill.metal_removal_rate(feed_per_revolution, spindle_speed)\n",
    "\n",
    "print(Q)\n",
    "print(Q.to('cm^3 / min'))"
   ]
  },
  {
   "cell_type": "code",
   "execution_count": 121,
   "metadata": {},
   "outputs": [
    {
     "name": "stdout",
     "output_type": "stream",
     "text": [
      "350000000.0 kilogram / meter / second ** 2\n"
     ]
    }
   ],
   "source": [
    "cutter_diameter = 12.7 * ureg.mm\n",
    "feed_per_revolution = .2 * (ureg.mm / ureg.turn)\n",
    "cutting_speed = 75 * (ureg.m / ureg.min)\n",
    "cutting_speed = 75 * 1000 * (ureg.mm / ureg.min)\n",
    "specific_cutting_force = 350 * (ureg.newton / ureg.mm ** 2)\n",
    "# specific_cutting_force.to('kilowatt / cm**3 / min')\n",
    "\n",
    "print(specific_cutting_force.to_base_units())\n",
    "P = pm.DrillOp.net_power__(cutter_diameter, feed_per_revolution, cutting_speed, specific_cutting_force)\n",
    "\n",
    "# print(P)"
   ]
  },
  {
   "cell_type": "code",
   "execution_count": 122,
   "metadata": {},
   "outputs": [
    {
     "name": "stdout",
     "output_type": "stream",
     "text": [
      "350000000.0 kilogram / meter / second ** 2\n"
     ]
    }
   ],
   "source": [
    "cutter_diameter = 12.7 * ureg.mm\n",
    "feed_per_revolution = .2 * (ureg.mm / ureg.turn)\n",
    "cutting_speed = 75 * (ureg.m / ureg.min)\n",
    "cutting_speed = 75 * 1000 * (ureg.mm / ureg.min)\n",
    "specific_cutting_force = 350 * (ureg.newton / ureg.mm ** 2)\n",
    "# specific_cutting_force.to('kilowatt / cm**3 / min')\n",
    "\n",
    "print(specific_cutting_force.to_base_units())\n",
    "P = drill.net_power2(feed_per_revolution, cutting_speed, specific_cutting_force)\n",
    "\n",
    "# print(P)"
   ]
  },
  {
   "cell_type": "code",
   "execution_count": 123,
   "metadata": {},
   "outputs": [
    {
     "name": "stdout",
     "output_type": "stream",
     "text": [
      "1.6467993070668676 kilowatt\n"
     ]
    }
   ],
   "source": [
    "cutter_diameter = 12.7 * ureg.mm\n",
    "feed_per_revolution = .2 * (ureg.mm / ureg.turn)\n",
    "spindle_rpm = 1000 * (ureg.turn / ureg.min)\n",
    "\n",
    "# Be careful with expressing units, the way they are written in text may not be the way they should be written in code\n",
    "# specific_cutting_energy = .065 * (ureg.kilowatt / ureg.cm**3 / ureg.min)\n",
    "# print(specific_cutting_energy)\n",
    "specific_cutting_energy = .065 * (ureg.kilowatt / (ureg.cm**3 / ureg.min))\n",
    "# print(specific_cutting_energy)\n",
    "\n",
    "P = pm.DrillOp.net_power_(cutter_diameter, feed_per_revolution, spindle_rpm, specific_cutting_energy)\n",
    "\n",
    "print(P)"
   ]
  },
  {
   "cell_type": "code",
   "execution_count": 124,
   "metadata": {},
   "outputs": [
    {
     "name": "stdout",
     "output_type": "stream",
     "text": [
      "1.6467993070668676 kilowatt\n"
     ]
    }
   ],
   "source": [
    "cutter_diameter = 12.7 * ureg.mm\n",
    "feed_per_revolution = .2 * (ureg.mm / ureg.turn)\n",
    "spindle_rpm = 1000 * (ureg.turn / ureg.min)\n",
    "\n",
    "# Be careful with expressing units, the way they are written in text may not be the way they should be written in code\n",
    "# specific_cutting_energy = .065 * (ureg.kilowatt / ureg.cm**3 / ureg.min)\n",
    "# print(specific_cutting_energy)\n",
    "specific_cutting_energy = .065 * (ureg.kilowatt / (ureg.cm**3 / ureg.min))\n",
    "# print(specific_cutting_energy)\n",
    "\n",
    "P = drill.net_power(feed_per_revolution, spindle_rpm, specific_cutting_energy)\n",
    "\n",
    "print(P)"
   ]
  },
  {
   "cell_type": "code",
   "execution_count": 125,
   "metadata": {},
   "outputs": [
    {
     "ename": "TypeError",
     "evalue": "'Quantity' object is not callable",
     "output_type": "error",
     "traceback": [
      "\u001b[1;31m---------------------------------------------------------------------------\u001b[0m",
      "\u001b[1;31mTypeError\u001b[0m                                 Traceback (most recent call last)",
      "\u001b[1;32m<ipython-input-125-54f164c41652>\u001b[0m in \u001b[0;36m<module>\u001b[1;34m\u001b[0m\n\u001b[0;32m     27\u001b[0m \u001b[0mcutter_diameter\u001b[0m \u001b[1;33m=\u001b[0m \u001b[1;36m12.7\u001b[0m \u001b[1;33m*\u001b[0m \u001b[0mureg\u001b[0m\u001b[1;33m.\u001b[0m\u001b[0mmm\u001b[0m\u001b[1;33m\u001b[0m\u001b[1;33m\u001b[0m\u001b[0m\n\u001b[0;32m     28\u001b[0m \u001b[0mcutting_speed\u001b[0m \u001b[1;33m=\u001b[0m \u001b[1;36m76\u001b[0m \u001b[1;33m*\u001b[0m \u001b[0mureg\u001b[0m\u001b[1;33m.\u001b[0m\u001b[0mm\u001b[0m \u001b[1;33m/\u001b[0m \u001b[0mureg\u001b[0m\u001b[1;33m.\u001b[0m\u001b[0mmin\u001b[0m\u001b[1;33m\u001b[0m\u001b[1;33m\u001b[0m\u001b[0m\n\u001b[1;32m---> 29\u001b[1;33m \u001b[0mrpm\u001b[0m \u001b[1;33m=\u001b[0m \u001b[0mspindle_speed\u001b[0m\u001b[1;33m(\u001b[0m\u001b[0mcutter_diameter\u001b[0m\u001b[1;33m,\u001b[0m \u001b[0mcutting_speed\u001b[0m\u001b[1;33m)\u001b[0m\u001b[1;33m\u001b[0m\u001b[1;33m\u001b[0m\u001b[0m\n\u001b[0m\u001b[0;32m     30\u001b[0m \u001b[0mprint\u001b[0m\u001b[1;33m(\u001b[0m\u001b[0mrpm\u001b[0m\u001b[1;33m)\u001b[0m\u001b[1;33m\u001b[0m\u001b[1;33m\u001b[0m\u001b[0m\n\u001b[0;32m     31\u001b[0m \u001b[0mprint\u001b[0m\u001b[1;33m(\u001b[0m\u001b[0mrpm\u001b[0m\u001b[1;33m.\u001b[0m\u001b[0mto_compact\u001b[0m\u001b[1;33m(\u001b[0m\u001b[1;33m)\u001b[0m\u001b[1;33m)\u001b[0m\u001b[1;33m\u001b[0m\u001b[1;33m\u001b[0m\u001b[0m\n",
      "\u001b[1;31mTypeError\u001b[0m: 'Quantity' object is not callable"
     ]
    }
   ],
   "source": [
    "def torque(net_power, spindle_speed):\n",
    "    P_c = net_power\n",
    "    n = spindle_speed\n",
    "    M_c = (P_c * 30 * 10**3) / (math.pi * n)\n",
    "    return M_c # N m\n",
    "\n",
    "\n",
    "def specific_cutting_force():\n",
    "    k_c = 0.\n",
    "    return k_c # N / mm^2\n",
    "\n",
    "\n",
    "def feed_force():\n",
    "    F_f = 0.\n",
    "    return F_f # N\n",
    "\n",
    "\n",
    "def machining_time(I_m, penetration_rate):\n",
    "    I_m = I_m\n",
    "    v_f = penetration_rate\n",
    "    T_c = I_m / v_f\n",
    "    return T_c # min\n",
    "\n",
    "\n",
    "ureg = pint.UnitRegistry(auto_reduce_dimensions=True)\n",
    "\n",
    "cutter_diameter = 12.7 * ureg.mm\n",
    "cutting_speed = 76 * ureg.m / ureg.min\n",
    "rpm = spindle_speed(cutter_diameter, cutting_speed)\n",
    "print(rpm)\n",
    "print(rpm.to_compact())\n",
    "    \n",
    "print(cutter_diameter, rpm, cutting_speed(cutter_diameter, rpm))\n",
    "\n",
    "spindle_speed = 1000 / ureg.min\n",
    "speed_per_revolution = 1 * ureg.mm\n",
    "\n",
    "print(penetration_rate(speed_per_revolution, spindle_speed))\n"
   ]
  },
  {
   "cell_type": "code",
   "execution_count": 126,
   "metadata": {},
   "outputs": [
    {
     "name": "stdout",
     "output_type": "stream",
     "text": [
      "1 millimeter / minute\n"
     ]
    }
   ],
   "source": [
    "print((1 * (ureg.turn / ureg.min)) * (1 * (ureg.mm / ureg.turn)))"
   ]
  },
  {
   "cell_type": "code",
   "execution_count": 27,
   "metadata": {},
   "outputs": [
    {
     "data": {
      "image/png": "[encoded data removed]",
      "text/plain": [
       "<Figure size 432x288 with 2 Axes>"
      ]
     },
     "metadata": {
      "needs_background": "light"
     },
     "output_type": "display_data"
    }
   ],
   "source": [
    "m = pm.MachinePM25_DMMServo()\n",
    "\n",
    "import pylab\n",
    "import numpy as np\n",
    "\n",
    "x = np.linspace(m.min_rpm, m.max_rpm, 100) * ureg.tpm\n",
    "\n",
    "# y1 = np.vectorize(m.torque_continuous)(x)\n",
    "# y2 = np.vectorize(m.torque_intermittent)(x)\n",
    "# y1 = [m.torque_continuous(x_) for x_ in x]\n",
    "# y2 = [m.torque_intermittent(x_) for x_ in x]\n",
    "y1 = np.array([m.torque_continuous(x_).magnitude for x_ in x]) * (ureg.newton * ureg.meter)\n",
    "y2 = np.array([m.torque_intermittent(x_).magnitude for x_ in x]) * (ureg.newton * ureg.meter)\n",
    "\n",
    "fig, ax1 = pylab.subplots()\n",
    "\n",
    "ax1.set_title(\"Torque, Power vs. Speed\", fontsize = 16.)\n",
    "\n",
    "ax1.set_xlabel(\"Speed [RPM]\", fontsize = 12)\n",
    "ax1.set_ylabel(\"Torque [N m]\", fontsize = 12)\n",
    "ax1.set_xlim([x[0].magnitude, x[-1].magnitude])\n",
    "\n",
    "ax2 = ax1.twinx()\n",
    "ax2.set_ylabel(\"Power [W]\", fontsize = 12)\n",
    "\n",
    "colors = ['#ff0000ee', '#773300ee', '#00ff00ee', '#005533ee']\n",
    "\n",
    "lns = []\n",
    "\n",
    "lns += ax1.plot(x,y1, color=colors[0], label='Continous T')\n",
    "lns += ax2.plot(x,y1*x/9.5488, color=colors[1], label='Continous P')\n",
    "\n",
    "lns += ax1.plot(x,y2, color=colors[2], label='Intermittent T')\n",
    "lns += ax2.plot(x,y2*x/9.5488, color=colors[3], label='Intermittent P')\n",
    "\n",
    "ax1.set_ylim(bottom=0)\n",
    "ax2.set_ylim(bottom=0)\n",
    "\n",
    "labs = [l.get_label() for l in lns]\n",
    "ax1.legend(lns, labs, loc='upper left')\n",
    "\n",
    "fig.tight_layout()\n",
    "pylab.show()"
   ]
  },
  {
   "cell_type": "code",
   "execution_count": 35,
   "metadata": {},
   "outputs": [
    {
     "data": {
      "text/html": [
       "1 turn/minute"
      ],
      "text/latex": [
       "$1\\ \\frac{\\mathrm{turn}}{\\mathrm{minute}}$"
      ],
      "text/plain": [
       "1 <Unit('turn / minute')>"
      ]
     },
     "execution_count": 35,
     "metadata": {},
     "output_type": "execute_result"
    }
   ],
   "source": [
    "rr = ureg.turn / ureg.min\n",
    "1 * rr\n",
    "ureg.rpm = ureg.turn / ureg.min\n",
    "1 * ureg.rpm"
   ]
  },
  {
   "cell_type": "code",
   "execution_count": 34,
   "metadata": {},
   "outputs": [
    {
     "data": {
      "application/vnd.jupyter.widget-view+json": {
       "model_id": "41704d56db3c460ba45bb71f08cc0fdd",
       "version_major": 2,
       "version_minor": 0
      },
      "text/plain": [
       "FloatText(value=0.0)"
      ]
     },
     "metadata": {},
     "output_type": "display_data"
    },
    {
     "data": {
      "application/vnd.jupyter.widget-view+json": {
       "model_id": "2bd4fee8b8ed474b831685abff84fd28",
       "version_major": 2,
       "version_minor": 0
      },
      "text/plain": [
       "FloatSlider(value=0.0)"
      ]
     },
     "metadata": {},
     "output_type": "display_data"
    },
    {
     "name": "stdout",
     "output_type": "stream",
     "text": [
      "['__class__', '__del__', '__delattr__', '__dict__', '__dir__', '__doc__', '__eq__', '__format__', '__ge__', '__getattribute__', '__getstate__', '__gt__', '__hash__', '__init__', '__init_subclass__', '__le__', '__lt__', '__module__', '__ne__', '__new__', '__reduce__', '__reduce_ex__', '__repr__', '__setattr__', '__setstate__', '__sizeof__', '__str__', '__subclasshook__', '__weakref__', '_add_notifiers', '_call_widget_constructed', '_comm_changed', '_compare', '_cross_validation_lock', '_default_keys', '_display_callbacks', '_dom_classes', '_gen_repr_from_keys', '_get_embed_state', '_handle_custom_msg', '_handle_displayed', '_handle_msg', '_holding_sync', '_ipython_display_', '_is_numpy', '_lock_property', '_log_default', '_model_id', '_model_module', '_model_module_version', '_model_name', '_msg_callbacks', '_notify_trait', '_property_lock', '_register_validator', '_remove_notifiers', '_repr_keys', '_send', '_should_send_property', '_states_to_send', '_trait_default_generators', '_trait_from_json', '_trait_notifiers', '_trait_to_json', '_trait_validators', '_trait_values', '_view_count', '_view_module', '_view_module_version', '_view_name', '_widget_construction_callback', 'add_class', 'add_traits', 'class_own_trait_events', 'class_own_traits', 'class_trait_names', 'class_traits', 'close', 'close_all', 'comm', 'continuous_update', 'cross_validation_lock', 'description', 'description_tooltip', 'disabled', 'get_interact_value', 'get_manager_state', 'get_state', 'get_view_spec', 'handle_comm_opened', 'has_trait', 'hold_sync', 'hold_trait_notifications', 'keys', 'layout', 'log', 'model_id', 'notify_change', 'observe', 'on_displayed', 'on_msg', 'on_trait_change', 'on_widget_constructed', 'open', 'remove_class', 'send', 'send_state', 'set_state', 'set_trait', 'setup_instance', 'step', 'style', 'trait_events', 'trait_metadata', 'trait_names', 'traits', 'unobserve', 'unobserve_all', 'value', 'widget_types', 'widgets']\n"
     ]
    }
   ],
   "source": [
    "import ipywidgets as widgets\n",
    "\n",
    "a = widgets.FloatText()\n",
    "b = widgets.FloatSlider()\n",
    "display(a,b)\n",
    "c = m.torque_continuous(b.value).magnitude\n",
    "print(dir(a))\n",
    "a.value = c\n",
    "mylink = widgets.jslink((a, 'value'), (b, 'value'))"
   ]
  },
  {
   "cell_type": "code",
   "execution_count": 69,
   "metadata": {},
   "outputs": [
    {
     "data": {
      "application/vnd.jupyter.widget-view+json": {
       "model_id": "5b9fe8df22ab4cd0a19da4049e6f7ba1",
       "version_major": 2,
       "version_minor": 0
      },
      "text/plain": [
       "interactive(children=(FloatSlider(value=0.0, description='rpm', max=5000.0, step=10.0), Output()), _dom_classe…"
      ]
     },
     "metadata": {},
     "output_type": "display_data"
    },
    {
     "data": {
      "text/plain": [
       "<function __main__.f(rpm)>"
      ]
     },
     "execution_count": 69,
     "metadata": {},
     "output_type": "execute_result"
    }
   ],
   "source": [
    "def f(rpm):\n",
    "    print(rpm)\n",
    "    t = m.torque_continuous(rpm)\n",
    "    print(f'{t:.2f}')\n",
    "    return t\n",
    "    \n",
    "widgets.interact(f, rpm = widgets.FloatSlider(min=m.min_rpm.magnitude, max=m.max_rpm.magnitude, step=10))\n",
    "# display()"
   ]
  },
  {
   "cell_type": "code",
   "execution_count": 58,
   "metadata": {},
   "outputs": [
    {
     "name": "stdout",
     "output_type": "stream",
     "text": [
      "False\n",
      "True\n"
     ]
    }
   ],
   "source": [
    "a = 1.\n",
    "print(isinstance(a, ureg.Quantity))\n",
    "a = 1 *ureg.tpm\n",
    "print(isinstance(a, ureg.Quantity))\n"
   ]
  }
 ],
 "metadata": {
  "kernelspec": {
   "display_name": "Python 3",
   "language": "python",
   "name": "python3"
  },
  "language_info": {
   "codemirror_mode": {
    "name": "ipython",
    "version": 3
   },
   "file_extension": ".py",
   "mimetype": "text/x-python",
   "name": "python",
   "nbconvert_exporter": "python",
   "pygments_lexer": "ipython3",
   "version": "3.7.4"
  }
 },
 "nbformat": 4,
 "nbformat_minor": 2
}
