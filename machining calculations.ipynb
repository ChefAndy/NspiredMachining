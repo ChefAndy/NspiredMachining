{
 "cells": [
  {
   "cell_type": "code",
   "execution_count": 52,
   "metadata": {},
   "outputs": [],
   "source": [
    "import pint\n",
    "import math\n",
    "\n",
    "import pymachining as pm\n",
    "import importlib\n",
    "importlib.reload(pm)\n",
    "from  pymachining import ureg"
   ]
  },
  {
   "cell_type": "code",
   "execution_count": 38,
   "metadata": {},
   "outputs": [
    {
     "name": "stdout",
     "output_type": "stream",
     "text": [
      "12.7 millimeter\n",
      "1000 revolutions_per_minute\n",
      "39898.22670059037 millimeter * revolutions_per_minute\n"
     ]
    }
   ],
   "source": [
    "cutter_diameter = 12.7 * ureg.mm\n",
    "rpm = 1000 * ureg.revolutions_per_minute\n",
    "\n",
    "v_c = pm.cutting_speed(cutter_diameter, rpm)\n",
    "\n",
    "print(cutter_diameter, rpm, v_c, sep='\\n')"
   ]
  },
  {
   "cell_type": "code",
   "execution_count": 39,
   "metadata": {},
   "outputs": [
    {
     "name": "stdout",
     "output_type": "stream",
     "text": [
      "1002.5508226261124 / minute\n",
      "1002.5508226261124 revolutions_per_minute\n",
      "1002.55 revolutions_per_minute\n"
     ]
    }
   ],
   "source": [
    "cutter_diameter = 12.7 * ureg.mm\n",
    "cutting_speed = 40 * ureg.m / ureg.min\n",
    "\n",
    "n = pm.spindle_speed(cutter_diameter, cutting_speed)\n",
    "print(n)\n",
    "print(f'{n:.2f}')"
   ]
  },
  {
   "cell_type": "code",
   "execution_count": 40,
   "metadata": {},
   "outputs": [
    {
     "name": "stdout",
     "output_type": "stream",
     "text": [
      "1000.0 millimeter / minute\n"
     ]
    }
   ],
   "source": [
    "# speed_per_revolution = 1 * ureg.mm / ureg.revolution\n",
    "# spindle_speed = 1000 * ureg.revolutions_per_minute\n",
    "\n",
    "# using turn instead of rev_per_min results in simplier final units, without need for to_base_units()\n",
    "speed_per_revolution = 1 * ureg.mm / ureg.turn\n",
    "spindle_speed = 1000 * (ureg.turn / ureg.minute)\n",
    "\n",
    "v_f = pm.penetration_rate(speed_per_revolution, spindle_speed)\n",
    "\n",
    "print(v_f)"
   ]
  },
  {
   "cell_type": "code",
   "execution_count": 41,
   "metadata": {
    "scrolled": true
   },
   "outputs": [
    {
     "name": "stdout",
     "output_type": "stream",
     "text": [
      "1.0 millimeter / turn\n"
     ]
    }
   ],
   "source": [
    "penetration_rate = 1000 * ureg.mm / ureg.min\n",
    "spindle_speed = 1000 * (ureg.turn / ureg.min)\n",
    "\n",
    "f_n = pm.feed_per_revolution(penetration_rate, spindle_speed)\n",
    "\n",
    "print(f_n)"
   ]
  },
  {
   "cell_type": "code",
   "execution_count": 53,
   "metadata": {},
   "outputs": [
    {
     "ename": "DimensionalityError",
     "evalue": "Cannot convert from '1000 turn / minute' (1 / [time]) to 'a quantity of' ([length] / [time])",
     "output_type": "error",
     "traceback": [
      "\u001b[1;31m---------------------------------------------------------------------------\u001b[0m",
      "\u001b[1;31mDimensionalityError\u001b[0m                       Traceback (most recent call last)",
      "\u001b[1;32m<ipython-input-53-b7fdb9a8d766>\u001b[0m in \u001b[0;36m<module>\u001b[1;34m\u001b[0m\n\u001b[0;32m      4\u001b[0m \u001b[0mcutting_speed\u001b[0m \u001b[1;33m=\u001b[0m \u001b[1;36m1000\u001b[0m \u001b[1;33m*\u001b[0m \u001b[0mureg\u001b[0m\u001b[1;33m.\u001b[0m\u001b[0mmm\u001b[0m \u001b[1;33m/\u001b[0m \u001b[0mureg\u001b[0m\u001b[1;33m.\u001b[0m\u001b[0mmin\u001b[0m\u001b[1;33m\u001b[0m\u001b[1;33m\u001b[0m\u001b[0m\n\u001b[0;32m      5\u001b[0m \u001b[1;33m\u001b[0m\u001b[0m\n\u001b[1;32m----> 6\u001b[1;33m \u001b[0mQ\u001b[0m \u001b[1;33m=\u001b[0m \u001b[0mpm\u001b[0m\u001b[1;33m.\u001b[0m\u001b[0mmetal_removal_rate_\u001b[0m\u001b[1;33m(\u001b[0m\u001b[0mcutter_diameter\u001b[0m\u001b[1;33m,\u001b[0m \u001b[0mfeed_per_revolution\u001b[0m\u001b[1;33m,\u001b[0m \u001b[0mspindle_speed\u001b[0m\u001b[1;33m)\u001b[0m\u001b[1;33m\u001b[0m\u001b[1;33m\u001b[0m\u001b[0m\n\u001b[0m\u001b[0;32m      7\u001b[0m \u001b[1;33m\u001b[0m\u001b[0m\n\u001b[0;32m      8\u001b[0m \u001b[0mprint\u001b[0m\u001b[1;33m(\u001b[0m\u001b[0mQ\u001b[0m\u001b[1;33m)\u001b[0m\u001b[1;33m\u001b[0m\u001b[1;33m\u001b[0m\u001b[0m\n",
      "\u001b[1;32m~\\Anaconda3\\lib\\site-packages\\pint\\registry_helpers.py\u001b[0m in \u001b[0;36mwrapper\u001b[1;34m(*args, **kwargs)\u001b[0m\n\u001b[0;32m    244\u001b[0m                     \u001b[0mval_dim\u001b[0m \u001b[1;33m=\u001b[0m \u001b[0mureg\u001b[0m\u001b[1;33m.\u001b[0m\u001b[0mget_dimensionality\u001b[0m\u001b[1;33m(\u001b[0m\u001b[0mvalue\u001b[0m\u001b[1;33m)\u001b[0m\u001b[1;33m\u001b[0m\u001b[1;33m\u001b[0m\u001b[0m\n\u001b[0;32m    245\u001b[0m                     raise DimensionalityError(value, 'a quantity of',\n\u001b[1;32m--> 246\u001b[1;33m                                               val_dim, dim)\n\u001b[0m\u001b[0;32m    247\u001b[0m             \u001b[1;32mreturn\u001b[0m \u001b[0mfunc\u001b[0m\u001b[1;33m(\u001b[0m\u001b[1;33m*\u001b[0m\u001b[0margs\u001b[0m\u001b[1;33m,\u001b[0m \u001b[1;33m**\u001b[0m\u001b[0mkwargs\u001b[0m\u001b[1;33m)\u001b[0m\u001b[1;33m\u001b[0m\u001b[1;33m\u001b[0m\u001b[0m\n\u001b[0;32m    248\u001b[0m         \u001b[1;32mreturn\u001b[0m \u001b[0mwrapper\u001b[0m\u001b[1;33m\u001b[0m\u001b[1;33m\u001b[0m\u001b[0m\n",
      "\u001b[1;31mDimensionalityError\u001b[0m: Cannot convert from '1000 turn / minute' (1 / [time]) to 'a quantity of' ([length] / [time])"
     ]
    }
   ],
   "source": [
    "cutter_diameter = 12.7 * ureg.mm\n",
    "feed_per_revolution = 1 * ureg.mm / ureg.turn\n",
    "# spindle_speed = 1000 * ureg.revolutions_per_minute\n",
    "cutting_speed = 1000 * ureg.mm / ureg.min\n",
    "\n",
    "Q = pm.metal_removal_rate_(cutter_diameter, feed_per_revolution, spindle_speed)\n",
    "\n",
    "print(Q)\n",
    "print(Q.to('cm^3 / min'))"
   ]
  },
  {
   "cell_type": "code",
   "execution_count": 46,
   "metadata": {
    "scrolled": true
   },
   "outputs": [
    {
     "name": "stdout",
     "output_type": "stream",
     "text": [
      "126676.86977437443 millimeter ** 3 / minute\n",
      "126.67686977437442 centimeter ** 3 / minute\n"
     ]
    }
   ],
   "source": [
    "cutter_diameter = 12.7 * ureg.mm\n",
    "feed_per_revolution = 1 * ureg.mm / ureg.turn\n",
    "# spindle_speed = 1000 * ureg.revolutions_per_minute\n",
    "spindle_speed = 1000 * (ureg.turn / ureg.minute)\n",
    "\n",
    "Q = pm.metal_removal_rate(cutter_diameter, feed_per_revolution, spindle_speed)\n",
    "\n",
    "print(Q)\n",
    "print(Q.to('cm^3 / min'))"
   ]
  },
  {
   "cell_type": "code",
   "execution_count": 45,
   "metadata": {},
   "outputs": [
    {
     "name": "stdout",
     "output_type": "stream",
     "text": [
      "350000000.0 kilogram / meter / second ** 2\n"
     ]
    }
   ],
   "source": [
    "cutter_diameter = 12.7 * ureg.mm\n",
    "feed_per_revolution = .2 * (ureg.mm / ureg.turn)\n",
    "cutting_speed = 75 * (ureg.m / ureg.min)\n",
    "cutting_speed = 75 * 1000 * (ureg.mm / ureg.min)\n",
    "specific_cutting_force = 350 * (ureg.newton / ureg.mm ** 2)\n",
    "# specific_cutting_force.to('kilowatt / cm**3 / min')\n",
    "\n",
    "print(specific_cutting_force.to_base_units())\n",
    "P = pm.net_power_(cutter_diameter, feed_per_revolution, cutting_speed, specific_cutting_force)\n",
    "\n",
    "# print(P)"
   ]
  },
  {
   "cell_type": "code",
   "execution_count": 36,
   "metadata": {},
   "outputs": [
    {
     "name": "stdout",
     "output_type": "stream",
     "text": [
      "1.6467993070668676 kilowatt\n"
     ]
    }
   ],
   "source": [
    "cutter_diameter = 12.7 * ureg.mm\n",
    "feed_per_revolution = .2 * (ureg.mm / ureg.turn)\n",
    "spindle_rpm = 1000 * (ureg.turn / ureg.min)\n",
    "\n",
    "# Be careful with expressing units, the way they are written in text may not be the way they should be written in code\n",
    "# specific_cutting_energy = .065 * (ureg.kilowatt / ureg.cm**3 / ureg.min)\n",
    "# print(specific_cutting_energy)\n",
    "specific_cutting_energy = .065 * (ureg.kilowatt / (ureg.cm**3 / ureg.min))\n",
    "# print(specific_cutting_energy)\n",
    "\n",
    "P = pm.net_power(cutter_diameter, feed_per_revolution, spindle_rpm, specific_cutting_energy)\n",
    "\n",
    "print(P)"
   ]
  },
  {
   "cell_type": "code",
   "execution_count": 11,
   "metadata": {},
   "outputs": [
    {
     "name": "stdout",
     "output_type": "stream",
     "text": [
      "3032265.2292448683 millimeter ** 2 / minute\n",
      "3.032265229244868 meter ** 2 / minute\n"
     ]
    },
    {
     "ename": "TypeError",
     "evalue": "'Quantity' object is not callable",
     "output_type": "error",
     "traceback": [
      "\u001b[1;31m---------------------------------------------------------------------------\u001b[0m",
      "\u001b[1;31mTypeError\u001b[0m                                 Traceback (most recent call last)",
      "\u001b[1;32m<ipython-input-11-7f9068dfe98a>\u001b[0m in \u001b[0;36m<module>\u001b[1;34m\u001b[0m\n\u001b[0;32m     80\u001b[0m \u001b[0mprint\u001b[0m\u001b[1;33m(\u001b[0m\u001b[0mrpm\u001b[0m\u001b[1;33m.\u001b[0m\u001b[0mto_compact\u001b[0m\u001b[1;33m(\u001b[0m\u001b[1;33m)\u001b[0m\u001b[1;33m)\u001b[0m\u001b[1;33m\u001b[0m\u001b[1;33m\u001b[0m\u001b[0m\n\u001b[0;32m     81\u001b[0m \u001b[1;33m\u001b[0m\u001b[0m\n\u001b[1;32m---> 82\u001b[1;33m \u001b[0mprint\u001b[0m\u001b[1;33m(\u001b[0m\u001b[0mcutter_diameter\u001b[0m\u001b[1;33m,\u001b[0m \u001b[0mrpm\u001b[0m\u001b[1;33m,\u001b[0m \u001b[0mcutting_speed\u001b[0m\u001b[1;33m(\u001b[0m\u001b[0mcutter_diameter\u001b[0m\u001b[1;33m,\u001b[0m \u001b[0mrpm\u001b[0m\u001b[1;33m)\u001b[0m\u001b[1;33m)\u001b[0m\u001b[1;33m\u001b[0m\u001b[1;33m\u001b[0m\u001b[0m\n\u001b[0m\u001b[0;32m     83\u001b[0m \u001b[1;33m\u001b[0m\u001b[0m\n\u001b[0;32m     84\u001b[0m \u001b[0mspindle_speed\u001b[0m \u001b[1;33m=\u001b[0m \u001b[1;36m1000\u001b[0m \u001b[1;33m/\u001b[0m \u001b[0mureg\u001b[0m\u001b[1;33m.\u001b[0m\u001b[0mmin\u001b[0m\u001b[1;33m\u001b[0m\u001b[1;33m\u001b[0m\u001b[0m\n",
      "\u001b[1;31mTypeError\u001b[0m: 'Quantity' object is not callable"
     ]
    }
   ],
   "source": [
    "def torque(net_power, spindle_speed):\n",
    "    P_c = net_power\n",
    "    n = spindle_speed\n",
    "    M_c = (P_c * 30 * 10**3) / (math.pi * n)\n",
    "    return M_c # N m\n",
    "\n",
    "\n",
    "def specific_cutting_force():\n",
    "    k_c = 0.\n",
    "    return k_c # N / mm^2\n",
    "\n",
    "\n",
    "def feed_force():\n",
    "    F_f = 0.\n",
    "    return F_f # N\n",
    "\n",
    "\n",
    "def machining_time(I_m, penetration_rate):\n",
    "    I_m = I_m\n",
    "    v_f = penetration_rate\n",
    "    T_c = I_m / v_f\n",
    "    return T_c # min\n",
    "\n",
    "\n",
    "ureg = pint.UnitRegistry(auto_reduce_dimensions=True)\n",
    "\n",
    "cutter_diameter = 12.7 * ureg.mm\n",
    "cutting_speed = 76 * ureg.m / ureg.min\n",
    "rpm = spindle_speed(cutter_diameter, cutting_speed)\n",
    "print(rpm)\n",
    "print(rpm.to_compact())\n",
    "    \n",
    "print(cutter_diameter, rpm, cutting_speed(cutter_diameter, rpm))\n",
    "\n",
    "spindle_speed = 1000 / ureg.min\n",
    "speed_per_revolution = 1 * ureg.mm\n",
    "\n",
    "print(penetration_rate(speed_per_revolution, spindle_speed))\n"
   ]
  },
  {
   "cell_type": "code",
   "execution_count": 194,
   "metadata": {},
   "outputs": [
    {
     "name": "stdout",
     "output_type": "stream",
     "text": [
      "1 millimeter / minute\n"
     ]
    }
   ],
   "source": [
    "print((1 * (ureg.turn / ureg.min)) * (1 * (ureg.mm / ureg.turn)))"
   ]
  }
 ],
 "metadata": {
  "kernelspec": {
   "display_name": "Python 3",
   "language": "python",
   "name": "python3"
  },
  "language_info": {
   "codemirror_mode": {
    "name": "ipython",
    "version": 3
   },
   "file_extension": ".py",
   "mimetype": "text/x-python",
   "name": "python",
   "nbconvert_exporter": "python",
   "pygments_lexer": "ipython3",
   "version": "3.7.4"
  }
 },
 "nbformat": 4,
 "nbformat_minor": 2
}
