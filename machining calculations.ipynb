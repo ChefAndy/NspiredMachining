{
 "cells": [
  {
   "cell_type": "code",
   "execution_count": 38,
   "metadata": {},
   "outputs": [],
   "source": [
    "import pint\n",
    "import math\n",
    "\n",
    "ureg = pint.UnitRegistry(auto_reduce_dimensions=True)"
   ]
  },
  {
   "cell_type": "code",
   "execution_count": 207,
   "metadata": {},
   "outputs": [
    {
     "name": "stdout",
     "output_type": "stream",
     "text": [
      "12.7 millimeter\n",
      "1000 revolutions_per_minute\n",
      "39898.22670059037 millimeter * revolutions_per_minute\n"
     ]
    }
   ],
   "source": [
    "#@ureg.wraps('[length] / [time]', ('[length]', '1 / [time]'))\n",
    "#@ureg.wraps(ureg.millimeter / ureg.minute, (ureg.mm, 1 / ureg.second))\n",
    "@ureg.check('[length]', 'turn / [time]')\n",
    "def cutting_speed(cutter_diameter, rpm):\n",
    "    D_c = cutter_diameter\n",
    "    n = rpm\n",
    "    v_c = D_c * math.pi * n\n",
    "    \n",
    "    assert(v_c.check('[length] / [time]'))\n",
    "    \n",
    "    return v_c # unit / min\n",
    "\n",
    "cutter_diameter = 12.7 * ureg.mm\n",
    "rpm = 1000 * ureg.revolutions_per_minute\n",
    "\n",
    "v_c = cutting_speed(cutter_diameter, rpm)\n",
    "\n",
    "print(cutter_diameter, rpm, v_c, sep='\\n')"
   ]
  },
  {
   "cell_type": "code",
   "execution_count": 202,
   "metadata": {},
   "outputs": [
    {
     "name": "stdout",
     "output_type": "stream",
     "text": [
      "1 / [time]\n",
      "1 / [time]\n",
      "250687.95178766965 millimeter / minute\n",
      "True\n",
      "250687.95178766965 millimeter / minute\n",
      "250.68795178766965 meter / minute\n",
      "4.178132529794494 meter / second\n",
      "250687.95178766965 millimeter / minute\n",
      "250.68795178766965 meter / minute\n",
      "9869.604401089357 inch / minute\n",
      "[length] / [time]\n",
      "True\n",
      "\n",
      "1570.7963267948965 inch / minute\n",
      "True\n",
      "1570.7963267948965 inch / minute\n",
      "1.5707963267948966 kiloinch / minute\n",
      "0.6649704450098395 meter / second\n",
      "1570.7963267948965 inch / minute\n",
      "39.89822670059037 meter / minute\n",
      "1570.7963267948965 inch / minute\n"
     ]
    }
   ],
   "source": [
    "cutter_diameter = 12.7 * ureg.mm\n",
    "rpm = 1000 * ureg.revolutions_per_minute\n",
    "print(rpm.dimensionality)\n",
    "rpm = 1000 * ureg.turn / ureg.min\n",
    "print(rpm.dimensionality)\n",
    "\n",
    "v_c = cutting_speed(cutter_diameter, rpm)\n",
    "\n",
    "print(v_c)\n",
    "print(v_c.to_compact())\n",
    "print(v_c.to_base_units())\n",
    "print(v_c.to_reduced_units())\n",
    "print(v_c.to(ureg.m / ureg.min))\n",
    "print(v_c.to(ureg.inch / ureg.min))\n",
    "print(v_c.dimensionality)\n",
    "print(v_c.check('[length] / [time]'))\n",
    "# print(type(v_c.dimensionality))\n",
    "# print(ureg.check('[length] / [time]')(v_c))\n",
    "#print(v_c.dimensionality == ureg.length / ureg.time)\n",
    "\n",
    "print()\n",
    "\n",
    "cutter_diameter = 0.5 * ureg.inch\n",
    "rpm = 1000 / ureg.min\n",
    "\n",
    "v_c = cutting_speed(cutter_diameter, rpm)\n",
    "print(v_c)\n",
    "print(v_c.to_compact())\n",
    "print(v_c.to_base_units())\n",
    "print(v_c.to_reduced_units())\n",
    "print(v_c.to(ureg.m / ureg.min))\n",
    "print(v_c.to(ureg.inch / ureg.min))"
   ]
  },
  {
   "cell_type": "code",
   "execution_count": 141,
   "metadata": {},
   "outputs": [
    {
     "name": "stdout",
     "output_type": "stream",
     "text": [
      "1 revolutions_per_minute\n",
      "1 / [time]\n",
      "1.0 turn / minute\n",
      "1 / [time]\n",
      "True\n",
      "True\n"
     ]
    }
   ],
   "source": [
    "a = 1 * ureg.revolutions_per_minute\n",
    "b = 1 * ureg.turn / ureg.minute\n",
    "print(a)\n",
    "print(a.dimensionality)\n",
    "print(b)\n",
    "print(b.dimensionality)\n",
    "\n",
    "print(a.check('1 / [time]'))\n",
    "print(a.check('revolutions / [time]'))\n"
   ]
  },
  {
   "cell_type": "code",
   "execution_count": 230,
   "metadata": {},
   "outputs": [
    {
     "name": "stdout",
     "output_type": "stream",
     "text": [
      "1002.5508226261124 / minute\n",
      "1002.5508226261124 revolutions_per_minute\n",
      "1002.55 revolutions_per_minute\n"
     ]
    }
   ],
   "source": [
    "@ureg.check('[length]', '[length] / [time]')\n",
    "def spindle_speed(cutter_diameter, cutting_speed):\n",
    "    D_c = cutter_diameter\n",
    "    v_c = cutting_speed\n",
    "    n = v_c / (math.pi * D_c)\n",
    "    print(n)\n",
    "\n",
    "    # n.ito('revolutions_per_minute') by itself will divide by 2Pi, but change units to rev_per_min\n",
    "    # *= ureg.turn only adds the unit\n",
    "    # *= ureg.turn and n.ito('rev...') will not change value and change units to rev_per_min\n",
    "    n *= ureg.turn\n",
    "    n.ito('revolutions_per_minute')\n",
    "    assert(n.check('turn / [time]'))\n",
    "    \n",
    "    return n # rpm\n",
    "\n",
    "cutter_diameter = 12.7 * ureg.mm\n",
    "cutting_speed = 40 * ureg.m / ureg.min\n",
    "\n",
    "n = spindle_speed(cutter_diameter, cutting_speed)\n",
    "print(n)\n",
    "print(f'{n:.2f}')"
   ]
  },
  {
   "cell_type": "code",
   "execution_count": 239,
   "metadata": {},
   "outputs": [
    {
     "name": "stdout",
     "output_type": "stream",
     "text": [
      "1000.0 millimeter / minute\n"
     ]
    }
   ],
   "source": [
    "@ureg.check('[length] / turn', 'turn / [time]')\n",
    "def penetration_rate(speed_per_revolution, spindle_speed):\n",
    "    f_n = speed_per_revolution\n",
    "    n = spindle_speed\n",
    "    v_f = f_n * n\n",
    "    \n",
    "    assert(v_f.check('[length] / [time]'))\n",
    "    \n",
    "    return v_f # unit / min\n",
    "    \n",
    "# speed_per_revolution = 1 * ureg.mm / ureg.revolution\n",
    "# spindle_speed = 1000 * ureg.revolutions_per_minute\n",
    "\n",
    "# using turn instead of rev_per_min results in simplier final units, without need for to_base_units()\n",
    "speed_per_revolution = 1 * ureg.mm / ureg.turn\n",
    "spindle_speed = 1000 * (ureg.turn / ureg.minute)\n",
    "\n",
    "v_f = penetration_rate(speed_per_revolution, spindle_speed)\n",
    "\n",
    "print(v_f)\n",
    "# print(v_f.to_compact())\n",
    "# print(v_f.to_base_units())\n",
    "# print(v_f.to_reduced_units())\n",
    "# print(v_f.to(ureg.mm / ureg.min))"
   ]
  },
  {
   "cell_type": "code",
   "execution_count": 241,
   "metadata": {
    "scrolled": true
   },
   "outputs": [
    {
     "name": "stdout",
     "output_type": "stream",
     "text": [
      "1000.0 millimeter / minute 1000 revolutions_per_minute\n",
      "1.0 millimeter / turn\n"
     ]
    }
   ],
   "source": [
    "# @ureg.wraps('[length] / turn',            (ureg.mile / ureg.min, ureg.revolutions_per_minute))\n",
    "@ureg.check('[length] / [time]', 'revolutions_per_minute')\n",
    "def feed_per_revolution(penetration_rate, spindle_speed):\n",
    "    v_f = penetration_rate\n",
    "    n = spindle_speed\n",
    "    f_n = v_f / n\n",
    "    \n",
    "    # convert from radians to turns\n",
    "    f_n *= 2 * math.pi / ureg.turn\n",
    "    # Check return type; Pint can only currently force the return type with @wraps()\n",
    "    assert(f_n.check('[length] / turn'))\n",
    "    \n",
    "    return f_n # mm / rev\n",
    "\n",
    "penetration_rate = 1000 * ureg.mm / ureg.min\n",
    "spindle_speed = 1000 * ureg.revolutions_per_minute\n",
    "\n",
    "f_n = feed_per_revolution(penetration_rate, spindle_speed)\n",
    "\n",
    "print(penetration_rate, spindle_speed)\n",
    "print(f_n)\n",
    "\n",
    "# print((1 * ureg.revolutions_per_minute) * (1 * ureg.minute))\n",
    "# print((1 * ureg.rpm) * (1 * ureg.minute))\n",
    "# print((1 * ureg.turn / (1 * ureg.minute)) * (1 * ureg.minute))\n",
    "# print((1 * ureg.revolution / (1 * ureg.minute)) * (1 * ureg.minute))\n",
    "# print(((1 * ureg.revolution / (1 * ureg.minute)) * (1 * ureg.minute)).to(ureg.turn))"
   ]
  },
  {
   "cell_type": "code",
   "execution_count": 242,
   "metadata": {},
   "outputs": [
    {
     "name": "stdout",
     "output_type": "stream",
     "text": [
      "3175.0 millimeter ** 3 / minute\n",
      "False\n",
      "True\n",
      "True\n",
      "True\n",
      "True\n",
      "3175.0 millimeter ** 3 / minute\n"
     ]
    }
   ],
   "source": [
    "@ureg.check('[length]', '[length] / turn', '[length] / [time]')\n",
    "def metal_removal_rate(cutter_diameter, feed_per_revolution, cutting_speed):\n",
    "    D_c = cutter_diameter\n",
    "    f_n = feed_per_revolution\n",
    "    v_c = cutting_speed\n",
    "    # / 4 \n",
    "    Q = D_c * f_n * v_c / 4\n",
    "    \n",
    "    Q *= ureg.turn\n",
    "    print(Q)\n",
    "    print(Q.check('[length] ** 2 / [time] / turn'))\n",
    "    print(Q.check('[length] ** 3 / [time] / turn'))\n",
    "    print(Q.check('[volume] / [time] / turn'))\n",
    "    print(Q.check('[length] ** 3 / [time]'))\n",
    "    print(Q.check('[volume] / [time]'))\n",
    "    \n",
    "    return Q # cm^3 / min\n",
    "\n",
    "cutter_diameter = 12.7 * ureg.mm\n",
    "feed_per_revolution = 1 * ureg.mm / ureg.turn\n",
    "cutting_speed = 1000 * ureg.mm / ureg.min\n",
    "\n",
    "Q = metal_removal_rate(cutter_diameter, feed_per_revolution, cutting_speed)\n",
    "\n",
    "print(Q)"
   ]
  },
  {
   "cell_type": "code",
   "execution_count": 194,
   "metadata": {},
   "outputs": [
    {
     "name": "stdout",
     "output_type": "stream",
     "text": [
      "1 millimeter / minute\n"
     ]
    }
   ],
   "source": [
    "print((1 * (ureg.turn / ureg.min)) * (1 * (ureg.mm / ureg.turn)))"
   ]
  },
  {
   "cell_type": "code",
   "execution_count": 285,
   "metadata": {},
   "outputs": [
    {
     "name": "stdout",
     "output_type": "stream",
     "text": [
      "126676.86977437443 millimeter ** 3 / minute\n",
      "False\n",
      "True\n",
      "True\n",
      "True\n",
      "True\n",
      "126676.86977437443 millimeter ** 3 / minute\n",
      "126.67686977437442 centimeter ** 3 / minute\n"
     ]
    }
   ],
   "source": [
    "@ureg.check('[length]', '[length] / turn', 'turn / [time]')\n",
    "def metal_removal_rate(cutter_diameter, feed_per_rev, spindle_rpm):\n",
    "    f = feed_per_rev # [mm / rev]\n",
    "    N = spindle_rpm # rev / min\n",
    "    D_c = cutter_diameter\n",
    "\n",
    "    f_r = f * N # feed_rate [mm / min]\n",
    "    # The /4 comes from r^2 = (d/2)^2\n",
    "    Q = (math.pi * D_c**2 / 4) * f_r\n",
    "    \n",
    "#     Q *= ureg.turn\n",
    "    print(Q)\n",
    "    print(Q.check('[length] ** 2 / [time] / turn'))\n",
    "    print(Q.check('[length] ** 3 / [time] / turn'))\n",
    "    print(Q.check('[volume] / [time] / turn'))\n",
    "    print(Q.check('[length] ** 3 / [time]'))\n",
    "    print(Q.check('[volume] / [time]'))\n",
    "    \n",
    "    return Q # cm^3 / min\n",
    "\n",
    "cutter_diameter = 12.7 * ureg.mm\n",
    "feed_per_revolution = 1 * ureg.mm / ureg.turn\n",
    "# spindle_speed = 1000 * ureg.revolutions_per_minute\n",
    "spindle_speed = 1000 * (ureg.turn / ureg.minute)\n",
    "\n",
    "Q = metal_removal_rate(cutter_diameter, feed_per_revolution, spindle_speed)\n",
    "\n",
    "print(Q)\n",
    "print(Q.to('cm^3 / min'))"
   ]
  },
  {
   "cell_type": "code",
   "execution_count": 281,
   "metadata": {},
   "outputs": [
    {
     "name": "stdout",
     "output_type": "stream",
     "text": [
      "350000000.0 kilogram / meter / second ** 2\n"
     ]
    }
   ],
   "source": [
    "@ureg.check('[length]', '[length] / turn', '[length] / [time]', '[force] / [area]')\n",
    "def net_power(cutter_diameter, feed_per_revolution, cutting_speed, specific_cutting_force):\n",
    "    D_c = cutter_diameter\n",
    "    f_n = feed_per_revolution\n",
    "    v_c = cutting_speed\n",
    "    k_c = specific_cutting_force\n",
    "    P_c = (f_n * v_c * D_c * k_c) / (240.)\n",
    "    \n",
    "    assert(P_c.check('watt'))\n",
    "    P_c.ito('watt')\n",
    "    \n",
    "    return P_c # kW\n",
    "\n",
    "cutter_diameter = 12.7 * ureg.mm\n",
    "feed_per_revolution = .2 * (ureg.mm / ureg.turn)\n",
    "cutting_speed = 75 * (ureg.m / ureg.min)\n",
    "cutting_speed = 75 * 1000 * (ureg.mm / ureg.min)\n",
    "specific_cutting_force = 350 * (ureg.newton / ureg.mm ** 2)\n",
    "# specific_cutting_force.to('kilowatt / cm**3 / min')\n",
    "\n",
    "print(specific_cutting_force.to_base_units())\n",
    "# P = net_power(cutter_diameter, feed_per_revolution, cutting_speed, specific_cutting_force)\n",
    "\n",
    "# print(P)"
   ]
  },
  {
   "cell_type": "code",
   "execution_count": 302,
   "metadata": {},
   "outputs": [
    {
     "name": "stdout",
     "output_type": "stream",
     "text": [
      "0.065 kilowatt * minute / centimeter ** 3\n",
      "25335.373954874885 millimeter ** 3 / minute\n",
      "False\n",
      "True\n",
      "True\n",
      "True\n",
      "True\n",
      "1.6467993070668676 kilowatt\n"
     ]
    }
   ],
   "source": [
    "@ureg.check('[length]', '[length] / turn', 'turn / [time]', '[power] / ([volume] / [time])')\n",
    "def net_power(cutter_diameter, feed_per_revolution, spindle_rpm, specific_cutting_energy):\n",
    "    Q = metal_removal_rate(cutter_diameter, feed_per_revolution, spindle_rpm)\n",
    "    u_s = specific_cutting_energy\n",
    "\n",
    "    P = Q * u_s\n",
    "    \n",
    "#     print(Q)\n",
    "#     print(u_s)\n",
    "#     print(P)\n",
    "    assert(P.check('watt'))\n",
    "#     P.ito('watt')\n",
    "    \n",
    "    return P # kW\n",
    "\n",
    "cutter_diameter = 12.7 * ureg.mm\n",
    "feed_per_revolution = .2 * (ureg.mm / ureg.turn)\n",
    "spindle_rpm = 1000 * (ureg.turn / ureg.min)\n",
    "# specific_cutting_energy = .065 * (ureg.kilowatt / ureg.cm**3 / ureg.min)\n",
    "# print(specific_cutting_energy)\n",
    "specific_cutting_energy = .065 * (ureg.kilowatt / (ureg.cm**3 / ureg.min))\n",
    "print(specific_cutting_energy)\n",
    "P = net_power(cutter_diameter, feed_per_revolution, spindle_rpm, specific_cutting_energy)\n",
    "\n",
    "print(P)"
   ]
  },
  {
   "cell_type": "code",
   "execution_count": 11,
   "metadata": {},
   "outputs": [
    {
     "name": "stdout",
     "output_type": "stream",
     "text": [
      "3032265.2292448683 millimeter ** 2 / minute\n",
      "3.032265229244868 meter ** 2 / minute\n"
     ]
    },
    {
     "ename": "TypeError",
     "evalue": "'Quantity' object is not callable",
     "output_type": "error",
     "traceback": [
      "\u001b[1;31m---------------------------------------------------------------------------\u001b[0m",
      "\u001b[1;31mTypeError\u001b[0m                                 Traceback (most recent call last)",
      "\u001b[1;32m<ipython-input-11-7f9068dfe98a>\u001b[0m in \u001b[0;36m<module>\u001b[1;34m\u001b[0m\n\u001b[0;32m     80\u001b[0m \u001b[0mprint\u001b[0m\u001b[1;33m(\u001b[0m\u001b[0mrpm\u001b[0m\u001b[1;33m.\u001b[0m\u001b[0mto_compact\u001b[0m\u001b[1;33m(\u001b[0m\u001b[1;33m)\u001b[0m\u001b[1;33m)\u001b[0m\u001b[1;33m\u001b[0m\u001b[1;33m\u001b[0m\u001b[0m\n\u001b[0;32m     81\u001b[0m \u001b[1;33m\u001b[0m\u001b[0m\n\u001b[1;32m---> 82\u001b[1;33m \u001b[0mprint\u001b[0m\u001b[1;33m(\u001b[0m\u001b[0mcutter_diameter\u001b[0m\u001b[1;33m,\u001b[0m \u001b[0mrpm\u001b[0m\u001b[1;33m,\u001b[0m \u001b[0mcutting_speed\u001b[0m\u001b[1;33m(\u001b[0m\u001b[0mcutter_diameter\u001b[0m\u001b[1;33m,\u001b[0m \u001b[0mrpm\u001b[0m\u001b[1;33m)\u001b[0m\u001b[1;33m)\u001b[0m\u001b[1;33m\u001b[0m\u001b[1;33m\u001b[0m\u001b[0m\n\u001b[0m\u001b[0;32m     83\u001b[0m \u001b[1;33m\u001b[0m\u001b[0m\n\u001b[0;32m     84\u001b[0m \u001b[0mspindle_speed\u001b[0m \u001b[1;33m=\u001b[0m \u001b[1;36m1000\u001b[0m \u001b[1;33m/\u001b[0m \u001b[0mureg\u001b[0m\u001b[1;33m.\u001b[0m\u001b[0mmin\u001b[0m\u001b[1;33m\u001b[0m\u001b[1;33m\u001b[0m\u001b[0m\n",
      "\u001b[1;31mTypeError\u001b[0m: 'Quantity' object is not callable"
     ]
    }
   ],
   "source": [
    "def torque(net_power, spindle_speed):\n",
    "    P_c = net_power\n",
    "    n = spindle_speed\n",
    "    M_c = (P_c * 30 * 10**3) / (math.pi * n)\n",
    "    return M_c # N m\n",
    "\n",
    "\n",
    "def specific_cutting_force():\n",
    "    k_c = 0.\n",
    "    return k_c # N / mm^2\n",
    "\n",
    "\n",
    "def feed_force():\n",
    "    F_f = 0.\n",
    "    return F_f # N\n",
    "\n",
    "\n",
    "def machining_time(I_m, penetration_rate):\n",
    "    I_m = I_m\n",
    "    v_f = penetration_rate\n",
    "    T_c = I_m / v_f\n",
    "    return T_c # min\n",
    "\n",
    "\n",
    "ureg = pint.UnitRegistry(auto_reduce_dimensions=True)\n",
    "\n",
    "cutter_diameter = 12.7 * ureg.mm\n",
    "cutting_speed = 76 * ureg.m / ureg.min\n",
    "rpm = spindle_speed(cutter_diameter, cutting_speed)\n",
    "print(rpm)\n",
    "print(rpm.to_compact())\n",
    "    \n",
    "print(cutter_diameter, rpm, cutting_speed(cutter_diameter, rpm))\n",
    "\n",
    "spindle_speed = 1000 / ureg.min\n",
    "speed_per_revolution = 1 * ureg.mm\n",
    "\n",
    "print(penetration_rate(speed_per_revolution, spindle_speed))\n"
   ]
  }
 ],
 "metadata": {
  "kernelspec": {
   "display_name": "Python 3",
   "language": "python",
   "name": "python3"
  },
  "language_info": {
   "codemirror_mode": {
    "name": "ipython",
    "version": 3
   },
   "file_extension": ".py",
   "mimetype": "text/x-python",
   "name": "python",
   "nbconvert_exporter": "python",
   "pygments_lexer": "ipython3",
   "version": "3.7.4"
  }
 },
 "nbformat": 4,
 "nbformat_minor": 2
}
